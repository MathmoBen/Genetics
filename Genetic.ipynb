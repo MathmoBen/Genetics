{
 "cells": [
  {
   "cell_type": "markdown",
   "id": "4ed50a05-1218-477b-b839-a89c143fb1e4",
   "metadata": {},
   "source": [
    "## Genetic Algorithms"
   ]
  },
  {
   "cell_type": "markdown",
   "id": "d81b8f7f-11d7-4c23-a905-84416f21dfdd",
   "metadata": {},
   "source": [
    "An attempt to implement the code from here: https://medium.com/@Data_Aficionado_1083/genetic-algorithms-optimizing-success-through-evolutionary-computing-f4e7d452084f"
   ]
  },
  {
   "cell_type": "code",
   "execution_count": 3,
   "id": "58f38bcb-5324-4755-b787-99befafef2af",
   "metadata": {},
   "outputs": [],
   "source": [
    "import random"
   ]
  },
  {
   "cell_type": "code",
   "execution_count": 5,
   "id": "875d596a-be26-45a3-94ee-a4bf1d6c2a3f",
   "metadata": {},
   "outputs": [],
   "source": [
    "POP_SIZE = 500\n",
    "MUT_RATE = 0.1\n",
    "TARGET = 'rayan ali'\n",
    "GENES = ' abcdefghijklmnopqrstuvwxyz'"
   ]
  },
  {
   "cell_type": "code",
   "execution_count": 9,
   "id": "929c7293-9146-4190-bd70-afb13442e4d4",
   "metadata": {},
   "outputs": [],
   "source": [
    "def initialize_pop(TARGET: str) -> list:\n",
    "  \"\"\"\n",
    "  Generating a population of size equal to TARGETS length. Each of the string in population would be called “Chromosome” and each \n",
    "  Chromosome consists of only the letters defined in GENES.\n",
    "  \"\"\"  \n",
    "  population = list()\n",
    "  tar_len = len(TARGET)\n",
    "\n",
    "  for i in range(POP_SIZE):\n",
    "      temp = list()\n",
    "      for j in range(tar_len):\n",
    "          temp.append(random.choice(GENES))\n",
    "      population.append(temp)\n",
    "\n",
    "  return population"
   ]
  },
  {
   "cell_type": "code",
   "execution_count": 11,
   "id": "1e674722-98df-4900-bae5-c24150a3d8b9",
   "metadata": {},
   "outputs": [],
   "source": [
    "def fitness_cal(TARGET, chromo_from_pop):\n",
    "  difference = 0\n",
    "  for tar_char, chromo_char in zip(TARGET, chromo_from_pop):\n",
    "      if tar_char != chromo_char:\n",
    "          difference+=1 \n",
    "  return [chromo_from_pop, difference]"
   ]
  },
  {
   "cell_type": "code",
   "execution_count": 13,
   "id": "9efa19bb-4ff4-450f-993b-d1185c9aa550",
   "metadata": {},
   "outputs": [],
   "source": [
    "def selection(population, TARGET):\n",
    "  sorted_chromo_pop = sorted(population, key= lambda x: x[1])\n",
    "  return sorted_chromo_pop[:int(0.5*POP_SIZE)]"
   ]
  },
  {
   "cell_type": "code",
   "execution_count": 15,
   "id": "365d12a1-f3e7-4541-9a26-7e0ac0f18169",
   "metadata": {},
   "outputs": [],
   "source": [
    "def crossover(selected_chromo, CHROMO_LEN, population):\n",
    "  offspring_cross = []\n",
    "  for i in range(int(POP_SIZE)):\n",
    "    parent1 = random.choice(selected_chromo)\n",
    "    parent2 = random.choice(population[:int(POP_SIZE*50)])\n",
    "\n",
    "    p1 = parent1[0]\n",
    "    p2 = parent2[0]\n",
    "\n",
    "    crossover_point = random.randint(1, CHROMO_LEN-1)\n",
    "    child =  p1[:crossover_point] + p2[crossover_point:]\n",
    "    offspring_cross.extend([child])\n",
    "  return offspring_cross"
   ]
  },
  {
   "cell_type": "code",
   "execution_count": 17,
   "id": "2f227811-20e1-4b39-b797-7533c9e574a5",
   "metadata": {},
   "outputs": [],
   "source": [
    "def mutate(offspring, MUT_RATE):\n",
    "  mutated_offspring = []\n",
    "\n",
    "  for arr in offspring:\n",
    "      for i in range(len(arr)):\n",
    "          if random.random() < MUT_RATE:\n",
    "              arr[i] = random.choice(GENES)\n",
    "      mutated_offspring.append(arr)\n",
    "  return mutated_offspring"
   ]
  },
  {
   "cell_type": "code",
   "execution_count": 19,
   "id": "2875af1c-9348-4b7d-8585-caf3f5fea0b0",
   "metadata": {},
   "outputs": [],
   "source": [
    "def replace(new_gen, population):\n",
    "  for _ in range(len(population)):\n",
    "      if population[_][1] > new_gen[_][1]:\n",
    "        population[_][0] = new_gen[_][0]\n",
    "        population[_][1] = new_gen[_][1]\n",
    "  return population"
   ]
  },
  {
   "cell_type": "code",
   "execution_count": 21,
   "id": "855ed322-9e8d-49f6-8881-be9e030d440b",
   "metadata": {},
   "outputs": [
    {
     "name": "stdout",
     "output_type": "stream",
     "text": [
      "String: ['m', 'a', 'o', 'a', 'n', 'e', 'k', 'p', 's'] Generation: 1 Fitness: 6\n",
      "String: ['m', 'a', 'o', 'a', 'n', 'e', 'k', 'p', 's'] Generation: 2 Fitness: 6\n",
      "String: ['r', 'd', 'z', 'l', 'n', ' ', 'n', 'l', 't'] Generation: 3 Fitness: 5\n",
      "String: ['r', 'd', 'z', 'l', 'n', ' ', 'n', 'l', 't'] Generation: 4 Fitness: 5\n",
      "String: ['m', 'a', 'y', 'a', 'n', 's', 'i', 'l', 'o'] Generation: 5 Fitness: 4\n",
      "String: ['r', 'a', 'x', 'a', 'n', 'e', 'a', 'l', 'e'] Generation: 6 Fitness: 3\n",
      "String: ['r', 'a', 'x', 'a', 'n', 'e', 'a', 'l', 'i'] Generation: 7 Fitness: 2\n",
      "String: ['r', 'a', 'x', 'a', 'n', 'e', 'a', 'l', 'i'] Generation: 8 Fitness: 2\n",
      "String: ['r', 'a', 'x', 'a', 'n', 'e', 'a', 'l', 'i'] Generation: 9 Fitness: 2\n",
      "String: ['r', 'a', 'x', 'a', 'n', 'e', 'a', 'l', 'i'] Generation: 10 Fitness: 2\n",
      "String: ['b', 'a', 'y', 'a', 'n', ' ', 'a', 'l', 'i'] Generation: 11 Fitness: 1\n",
      "String: ['b', 'a', 'y', 'a', 'n', ' ', 'a', 'l', 'i'] Generation: 12 Fitness: 1\n",
      "Target found\n",
      "String: ['r', 'a', 'y', 'a', 'n', ' ', 'a', 'l', 'i'] Generation: 13 Fitness: 0\n"
     ]
    }
   ],
   "source": [
    "def main(POP_SIZE, MUT_RATE, TARGET, GENES):\n",
    "    # 1) initialize population\n",
    "    initial_population = initialize_pop(TARGET)\n",
    "    found = False\n",
    "    population = []\n",
    "    generation = 1\n",
    "\n",
    "    # 2) Calculating the fitness for the current population\n",
    "    for _ in range(len(initial_population)):\n",
    "        population.append(fitness_cal(TARGET, initial_population[_]))\n",
    "\n",
    "    # now population has 2 things, [chromosome, fitness]\n",
    "    # 3) now we loop until TARGET is found\n",
    "    while not found:\n",
    "\n",
    "      # 3.1) select best people from current population\n",
    "      selected = selection(population, TARGET)\n",
    "\n",
    "      # 3.2) mate parents to make new generation\n",
    "      population = sorted(population, key= lambda x:x[1])\n",
    "      crossovered = crossover(selected, len(TARGET), population)\n",
    "            \n",
    "      # 3.3) mutating the childeren to diversfy the new generation\n",
    "      mutated = mutate(crossovered, MUT_RATE)\n",
    "\n",
    "      new_gen = []\n",
    "      for _ in mutated:\n",
    "          new_gen.append(fitness_cal(TARGET, _))\n",
    "\n",
    "      # 3.4) replacement of bad population with new generation\n",
    "      # we sort here first to compare the least fit population with the most fit new_gen\n",
    "\n",
    "      population = replace(new_gen, population)\n",
    "\n",
    "      \n",
    "      if (population[0][1] == 0):\n",
    "        print('Target found')\n",
    "        print('String: ' + str(population[0][0]) + ' Generation: ' + str(generation) + ' Fitness: ' + str(population[0][1]))\n",
    "        break\n",
    "      print('String: ' + str(population[0][0]) + ' Generation: ' + str(generation) + ' Fitness: ' + str(population[0][1]))\n",
    "      generation+=1\n",
    "\n",
    "main(POP_SIZE, MUT_RATE, TARGET, GENES)"
   ]
  },
  {
   "cell_type": "code",
   "execution_count": 31,
   "id": "ae8948a1-3ff1-4a8a-b1dc-db2178d5ac71",
   "metadata": {},
   "outputs": [
    {
     "name": "stdout",
     "output_type": "stream",
     "text": [
      "String: ['q', 'h', 'i', ' ', 'u', 'a', 'o', 'b', 'b', 'j', 'y', 'r', 'g'] Generation: 1 Fitness: 9\n",
      "String: ['q', 'h', 'i', ' ', 'u', 'a', 'o', 'b', 'b', 'j', 'y', 'r', 'g'] Generation: 2 Fitness: 9\n",
      "String: ['q', 'h', 'i', ' ', 'u', 'a', 'o', 'b', 'b', 'j', 'y', 'r', 'g'] Generation: 3 Fitness: 9\n",
      "String: ['u', 'h', 'g', ' ', 'q', 'a', 'b', 'r', 'x', 'a', 'u', 'b', 'n'] Generation: 4 Fitness: 8\n",
      "String: ['b', 'e', 'n', 'q', 's', 'k', ' ', 'z', 'b', 'a', 'w', 'e', 'n'] Generation: 5 Fitness: 7\n",
      "String: ['b', 'e', 'n', 'q', 's', 'k', ' ', 'z', 'b', 'a', 'w', 'e', 'n'] Generation: 6 Fitness: 7\n",
      "String: ['b', 'e', 'n', ' ', 'l', 'a', 'i', 't', 'v', 'r', 'y', 'r', 'f'] Generation: 7 Fitness: 6\n",
      "String: ['b', 'e', 'n', ' ', 'l', 'a', 'i', 't', 'v', 'r', 'y', 'r', 'f'] Generation: 8 Fitness: 6\n",
      "String: ['b', 'e', 'n', 'c', 'f', 'x', 'i', 'p', 'b', 'a', 'v', 'a', 'n'] Generation: 9 Fitness: 5\n",
      "String: ['b', 'e', 'n', 'c', 'f', 'x', 'i', 'p', 'b', 'a', 'v', 'a', 'n'] Generation: 10 Fitness: 5\n",
      "String: ['b', 'e', 'n', 'c', 'f', 'x', 'i', 'p', 'b', 'a', 'v', 'a', 'n'] Generation: 11 Fitness: 5\n",
      "String: ['b', 'e', 'n', ' ', 'l', 'a', 'i', 'o', 'b', 'a', 'i', 'g', 'n'] Generation: 12 Fitness: 3\n",
      "String: ['b', 'e', 'n', ' ', 'l', 'a', 'i', 'o', 'b', 'a', 'i', 'g', 'n'] Generation: 13 Fitness: 3\n",
      "String: ['h', 'e', 'y', ' ', 'f', 'a', 'i', 'r', 'b', 'a', 'i', 'r', 'n'] Generation: 14 Fitness: 2\n",
      "String: ['h', 'e', 'y', ' ', 'f', 'a', 'i', 'r', 'b', 'a', 'i', 'r', 'n'] Generation: 15 Fitness: 2\n",
      "String: ['h', 'e', 'y', ' ', 'f', 'a', 'i', 'r', 'b', 'a', 'i', 'r', 'n'] Generation: 16 Fitness: 2\n",
      "Target found\n",
      "String: ['b', 'e', 'n', ' ', 'f', 'a', 'i', 'r', 'b', 'a', 'i', 'r', 'n'] Generation: 17 Fitness: 0\n"
     ]
    }
   ],
   "source": [
    "POP_SIZE = 500\n",
    "MUT_RATE = 0.1\n",
    "TARGET = 'ben fairbairn'\n",
    "GENES = ' abcdefghijklmnopqrstuvwxyz'\n",
    "\n",
    "main(POP_SIZE, MUT_RATE, TARGET, GENES)"
   ]
  },
  {
   "cell_type": "markdown",
   "id": "eb1a3f73-a3b1-45ab-813b-c2d56f2214ef",
   "metadata": {},
   "source": [
    "# Follow-up article"
   ]
  },
  {
   "cell_type": "markdown",
   "id": "98d09e74-f8d8-424c-8850-988bec3878bc",
   "metadata": {},
   "source": [
    "Discussed here: https://medium.com/@Data_Aficionado_1083/genetic-algorithm-with-python-made-easy-code-easy-explanation-87c3ad6ca152"
   ]
  },
  {
   "cell_type": "code",
   "execution_count": 35,
   "id": "7e708175-8421-41a7-aaca-9eec8bc3fc92",
   "metadata": {},
   "outputs": [],
   "source": [
    "POP_SIZE = 10\n",
    "MUT_RATE = 0.9"
   ]
  },
  {
   "cell_type": "code",
   "execution_count": 37,
   "id": "0f8053e1-07a4-43b6-a74a-aadc53c3efcc",
   "metadata": {},
   "outputs": [],
   "source": [
    "def initial_population(POP_SIZE):\n",
    "    pop = list()\n",
    "    for _ in range(POP_SIZE):\n",
    "        temp = list()\n",
    "        for i in range(4):\n",
    "            temp.append(int(random.random()*10))\n",
    "        pop.append(temp)\n",
    "    return pop"
   ]
  },
  {
   "cell_type": "code",
   "execution_count": 39,
   "id": "3542e015-5f9a-43c2-8a47-2b0753c2b3fe",
   "metadata": {},
   "outputs": [],
   "source": [
    "def fitness_cal(initial_pop):\n",
    "    fitness = 0\n",
    "    population = list()\n",
    "    for chromo in initial_pop:\n",
    "        fitness = 0\n",
    "        fitness = abs((chromo[0])+(2*chromo[1])+(3*chromo[2])+(4*chromo[3])-30)\n",
    "        prob = 1/(1+fitness)\n",
    "        population.append([prob, chromo])\n",
    "    return population"
   ]
  },
  {
   "cell_type": "code",
   "execution_count": 41,
   "id": "4b2889e9-c6d6-42dc-b0a6-33ed3cd5b61e",
   "metadata": {},
   "outputs": [],
   "source": [
    "def selection(initial_pop):\n",
    "    selected = list()\n",
    "    selected = sorted(initial_pop, key= lambda x : x[0], reverse=True)\n",
    "    return selected[:int(POP_SIZE*0.5)]"
   ]
  },
  {
   "cell_type": "code",
   "execution_count": 43,
   "id": "f23b291b-5ea7-430c-ba67-c5e26a6313ca",
   "metadata": {},
   "outputs": [],
   "source": [
    "def crossover(selected, initial_pop):\n",
    "\n",
    "    crossovered = list()\n",
    "    selected_pop = list()\n",
    "    ini_pop = list()\n",
    "    for chromo_selected in selected:\n",
    "        selected_pop.append(chromo_selected[1])\n",
    "\n",
    "    for chromo_ini in initial_pop:\n",
    "        ini_pop.append(chromo_ini[1])\n",
    "    c = 0\n",
    "    for chromo in selected_pop:\n",
    "        p1 = selected_pop[c]\n",
    "        p2 = ini_pop[c]\n",
    "        c+=1\n",
    "        crossover_point = random.randint(1, len(chromo)-1)\n",
    "        child1 =  p1[:crossover_point] + p2[crossover_point:]\n",
    "        child2 = p2[:crossover_point] + p1[crossover_point:]\n",
    "        crossovered.extend([child1, child2])\n",
    "    return crossovered"
   ]
  },
  {
   "cell_type": "code",
   "execution_count": 45,
   "id": "99b6ea57-bd59-43a5-bb56-b55410687e90",
   "metadata": {},
   "outputs": [],
   "source": [
    "def mutation(crossovered, MUT_RATE):\n",
    "    \n",
    "    for chromo in crossovered:\n",
    "        num = random.randrange(0,30)\n",
    "        index = random.randrange(0, len(chromo)-1)\n",
    "        prob = random.random()\n",
    "        if prob < MUT_RATE:\n",
    "            chromo[index] = num\n",
    "    return crossovered"
   ]
  },
  {
   "cell_type": "code",
   "execution_count": 47,
   "id": "feeb36ab-c6ff-45d7-a274-17ae84a81920",
   "metadata": {},
   "outputs": [],
   "source": [
    "def replacement(new_gen, initial_pop):\n",
    "    for _ in range(len(initial_pop)):\n",
    "        if initial_pop[_][0] < new_gen[_][0]:\n",
    "          initial_pop[_][1] = new_gen[_][1]\n",
    "          initial_pop[_][0] = new_gen[_][0]\n",
    "    return initial_pop"
   ]
  },
  {
   "cell_type": "code",
   "execution_count": 49,
   "id": "e97cf44f-2284-4370-aa17-a83bd286c79b",
   "metadata": {},
   "outputs": [],
   "source": [
    "def main(MUT_RATE, POP_SIZE):\n",
    "    initial_pop = initial_population(POP_SIZE)\n",
    "    population = fitness_cal(initial_pop)\n",
    "    generation = 1\n",
    "    found = False\n",
    "\n",
    "    while not found and generation <=500:\n",
    "        selected = selection(population)\n",
    "        crossovered = crossover(selected, population)\n",
    "        mutated = mutation(crossovered, MUT_RATE)\n",
    "        new_gen = list()\n",
    "        new_gen = fitness_cal(mutated)\n",
    "        new_gen = sorted(new_gen, key= lambda x:x[0], reverse=True)\n",
    "        population = replacement(new_gen, population)\n",
    "        print('Generation: ' + str(generation) + ' Chromosome: ' + str(population[0]))\n",
    "        generation+=1\n",
    "\n",
    "        if population[0][0] == 1:\n",
    "            print('FOUND')\n",
    "            print(str(population[0][0]) + ' ' + str(population[0][1]))\n",
    "            found = True"
   ]
  },
  {
   "cell_type": "code",
   "execution_count": 80,
   "id": "a0b12006-6aaf-4aac-aa11-8ba35221f4c1",
   "metadata": {},
   "outputs": [
    {
     "name": "stdout",
     "output_type": "stream",
     "text": [
      "Generation: 1 Chromosome: [0.047619047619047616, [3, 0, 5, 8]]\n",
      "Generation: 2 Chromosome: [0.0625, [6, 0, 5, 6]]\n",
      "Generation: 3 Chromosome: [0.0625, [6, 0, 5, 6]]\n",
      "Generation: 4 Chromosome: [1.0, [6, 0, 0, 6]]\n",
      "FOUND\n",
      "1.0 [6, 0, 0, 6]\n"
     ]
    }
   ],
   "source": [
    "main(MUT_RATE, POP_SIZE)"
   ]
  },
  {
   "cell_type": "code",
   "execution_count": null,
   "id": "8a0bac3e-fb76-4cca-9a8b-1d1087b46b95",
   "metadata": {},
   "outputs": [],
   "source": []
  },
  {
   "cell_type": "code",
   "execution_count": null,
   "id": "4fdc21d3-ff19-4bea-b5be-bf0f15cfea1c",
   "metadata": {},
   "outputs": [],
   "source": []
  }
 ],
 "metadata": {
  "kernelspec": {
   "display_name": "Python 3 (ipykernel)",
   "language": "python",
   "name": "python3"
  },
  "language_info": {
   "codemirror_mode": {
    "name": "ipython",
    "version": 3
   },
   "file_extension": ".py",
   "mimetype": "text/x-python",
   "name": "python",
   "nbconvert_exporter": "python",
   "pygments_lexer": "ipython3",
   "version": "3.12.4"
  }
 },
 "nbformat": 4,
 "nbformat_minor": 5
}
